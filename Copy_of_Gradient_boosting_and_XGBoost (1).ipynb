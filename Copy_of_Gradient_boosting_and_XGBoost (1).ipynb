{
  "nbformat": 4,
  "nbformat_minor": 0,
  "metadata": {
    "kernelspec": {
      "display_name": "Python 3",
      "language": "python",
      "name": "python3"
    },
    "language_info": {
      "codemirror_mode": {
        "name": "ipython",
        "version": 3
      },
      "file_extension": ".py",
      "mimetype": "text/x-python",
      "name": "python",
      "nbconvert_exporter": "python",
      "pygments_lexer": "ipython3",
      "version": "3.7.6"
    },
    "colab": {
      "name": "Copy of Gradient_boosting_and_XGBoost.ipynb",
      "provenance": []
    }
  },
  "cells": [
    {
      "cell_type": "code",
      "metadata": {
        "id": "fx-mUilhMnsA",
        "colab": {
          "base_uri": "https://localhost:8080/"
        },
        "outputId": "77509474-4909-4a6a-e0b6-9e9ddd999a2c"
      },
      "source": [
        "!git clone https://github.com/s7s/machine_learning_1.git\n",
        "%cd  machine_learning_1/ensemble_methods"
      ],
      "execution_count": 1,
      "outputs": [
        {
          "output_type": "stream",
          "name": "stdout",
          "text": [
            "Cloning into 'machine_learning_1'...\n",
            "remote: Enumerating objects: 259, done.\u001b[K\n",
            "remote: Counting objects: 100% (7/7), done.\u001b[K\n",
            "remote: Compressing objects: 100% (6/6), done.\u001b[K\n",
            "remote: Total 259 (delta 2), reused 5 (delta 1), pack-reused 252\u001b[K\n",
            "Receiving objects: 100% (259/259), 41.18 MiB | 27.22 MiB/s, done.\n",
            "Resolving deltas: 100% (125/125), done.\n",
            "/content/machine_learning_1/ensemble_methods\n"
          ]
        }
      ]
    },
    {
      "cell_type": "code",
      "metadata": {
        "id": "HaWhXwm9Mkqj"
      },
      "source": [
        "import numpy as np\n",
        "import pandas as pd\n",
        "from sklearn.tree import DecisionTreeRegressor\n",
        "from sklearn.ensemble import GradientBoostingRegressor\n",
        "import utils\n",
        "import sklearn\n",
        "from sklearn import tree\n",
        "import matplotlib.pyplot as plt"
      ],
      "execution_count": 2,
      "outputs": []
    },
    {
      "cell_type": "code",
      "metadata": {
        "id": "KANoR2I3Mkql"
      },
      "source": [
        "features = np.array([[10],[20],[30],[40],[50],[60],[70],[80]])\n",
        "labels = np.array([7,5,7,1,2,1,5,4])"
      ],
      "execution_count": 3,
      "outputs": []
    },
    {
      "cell_type": "code",
      "metadata": {
        "id": "v28Dehs2Mkql",
        "colab": {
          "base_uri": "https://localhost:8080/",
          "height": 449
        },
        "outputId": "868f69a4-2142-4628-8796-44d0a561595c"
      },
      "source": [
        "plt.scatter(features, labels)\n",
        "plt.xlabel(\"Age\")\n",
        "plt.ylabel(\"Days per week\")\n",
        "plt.show()"
      ],
      "execution_count": 4,
      "outputs": [
        {
          "output_type": "display_data",
          "data": {
            "text/plain": [
              "<Figure size 640x480 with 1 Axes>"
            ],
            "image/png": "[encoded data removed]"
          },
          "metadata": {}
        }
      ]
    },
    {
      "cell_type": "markdown",
      "source": [
        "#Gradient boosting"
      ],
      "metadata": {
        "id": "zpmFKzdMVXsL"
      }
    },
    {
      "cell_type": "code",
      "source": [
        "gb = GradientBoostingRegressor(learning_rate = 0.8, n_estimators = 4, max_depth= 2)\n",
        "gb.fit(features,labels)\n",
        "gb.score(features,labels)"
      ],
      "metadata": {
        "colab": {
          "base_uri": "https://localhost:8080/"
        },
        "id": "q7S18rASVdzu",
        "outputId": "cbd6b064-671d-4072-8a3d-6cbf1bae6540"
      },
      "execution_count": 7,
      "outputs": [
        {
          "output_type": "execute_result",
          "data": {
            "text/plain": [
              "0.9802910476190476"
            ]
          },
          "metadata": {},
          "execution_count": 7
        }
      ]
    },
    {
      "cell_type": "markdown",
      "metadata": {
        "id": "2E9cJJ99Mkqt"
      },
      "source": [
        "# XGBoost"
      ]
    },
    {
      "cell_type": "code",
      "metadata": {
        "id": "hNLAgrnOMkqt",
        "colab": {
          "base_uri": "https://localhost:8080/"
        },
        "outputId": "73273182-5540-4481-d882-4806863ef5e9"
      },
      "source": [
        "import xgboost\n",
        "from xgboost import XGBRegressor\n",
        "# use xgboost with [ n_estimators=3, max_depth=2, reg_lambda=0, min_split_loss=1, learning_rate=0.7]\n",
        "xgboost_regressor = XGBRegressor(n_estimators=3, max_depth=2, reg_lambda=0, min_split_loss=1, learning_rate=0.7)\n",
        "xgboost_regressor.fit(features, labels)\n",
        "xgboost_regressor.score(features, labels)"
      ],
      "execution_count": 8,
      "outputs": [
        {
          "output_type": "execute_result",
          "data": {
            "text/plain": [
              "0.9013694501392409"
            ]
          },
          "metadata": {},
          "execution_count": 8
        }
      ]
    },
    {
      "cell_type": "code",
      "metadata": {
        "id": "XtNSs6JXMkqt",
        "colab": {
          "base_uri": "https://localhost:8080/",
          "height": 449
        },
        "outputId": "96a37116-08b6-47ec-d9a8-dc3b90348bd3"
      },
      "source": [
        "utils.plot_regressor(xgboost_regressor, features, labels)"
      ],
      "execution_count": 9,
      "outputs": [
        {
          "output_type": "display_data",
          "data": {
            "text/plain": [
              "<Figure size 640x480 with 1 Axes>"
            ],
            "image/png": "[encoded data removed]"
          },
          "metadata": {}
        }
      ]
    },
    {
      "cell_type": "code",
      "metadata": {
        "id": "Wdc2_huSMkqu",
        "colab": {
          "base_uri": "https://localhost:8080/"
        },
        "outputId": "26356037-4f6e-4ace-d725-ce770adb48aa"
      },
      "source": [
        "xgboost_regressor.predict(features)"
      ],
      "execution_count": 10,
      "outputs": [
        {
          "output_type": "execute_result",
          "data": {
            "text/plain": [
              "array([6.1233335, 6.1233335, 6.1233335, 1.5733333, 1.5733333, 1.5733333,\n",
              "       4.455    , 4.455    ], dtype=float32)"
            ]
          },
          "metadata": {},
          "execution_count": 10
        }
      ]
    }
  ]
}